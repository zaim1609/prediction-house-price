{
 "cells": [
  {
   "cell_type": "code",
   "execution_count": 1,
   "id": "banner-harrison",
   "metadata": {
    "_cell_guid": "b1076dfc-b9ad-4769-8c92-a6c4dae69d19",
    "_uuid": "8f2839f25d086af736a60e9eeb907d3b93b6e0e5",
    "execution": {
     "iopub.execute_input": "2021-07-02T14:59:55.203525Z",
     "iopub.status.busy": "2021-07-02T14:59:55.202539Z",
     "iopub.status.idle": "2021-07-02T14:59:56.038248Z",
     "shell.execute_reply": "2021-07-02T14:59:56.039189Z",
     "shell.execute_reply.started": "2021-07-02T14:49:27.402400Z"
    },
    "papermill": {
     "duration": 0.855773,
     "end_time": "2021-07-02T14:59:56.039476",
     "exception": false,
     "start_time": "2021-07-02T14:59:55.183703",
     "status": "completed"
    },
    "tags": []
   },
   "outputs": [
    {
     "name": "stdout",
     "output_type": "stream",
     "text": [
      "/kaggle/input/harga-real-estate/harga_real_estate.csv\n"
     ]
    }
   ],
   "source": [
    "# This Python 3 environment comes with many helpful analytics libraries installed\n",
    "# It is defined by the kaggle/python Docker image: https://github.com/kaggle/docker-python\n",
    "# For example, here's several helpful packages to load\n",
    "\n",
    "import numpy as np # linear algebra\n",
    "import pandas as pd\n",
    "import matplotlib.pyplot as plt\n",
    "import seaborn as sns\n",
    "\n",
    "\n",
    "# Input data files are available in the read-only \"../input/\" directory\n",
    "# For example, running this (by clicking run or pressing Shift+Enter) will list all files under the input directory\n",
    "\n",
    "import os\n",
    "for dirname, _, filenames in os.walk('/kaggle/input'):\n",
    "    for filename in filenames:\n",
    "        print(os.path.join(dirname, filename))\n",
    "\n",
    "# You can write up to 20GB to the current directory (/kaggle/working/) that gets preserved as output when you create a version using \"Save & Run All\" \n",
    "# You can also write temporary files to /kaggle/temp/, but they won't be saved outside of the current session"
   ]
  },
  {
   "cell_type": "markdown",
   "id": "important-trademark",
   "metadata": {
    "papermill": {
     "duration": 0.014694,
     "end_time": "2021-07-02T14:59:56.069541",
     "exception": false,
     "start_time": "2021-07-02T14:59:56.054847",
     "status": "completed"
    },
    "tags": []
   },
   "source": [
    "membaca data"
   ]
  },
  {
   "cell_type": "code",
   "execution_count": 2,
   "id": "proof-majority",
   "metadata": {
    "execution": {
     "iopub.execute_input": "2021-07-02T14:59:56.106637Z",
     "iopub.status.busy": "2021-07-02T14:59:56.105993Z",
     "iopub.status.idle": "2021-07-02T14:59:56.136631Z",
     "shell.execute_reply": "2021-07-02T14:59:56.137120Z",
     "shell.execute_reply.started": "2021-07-02T13:48:33.808540Z"
    },
    "papermill": {
     "duration": 0.052828,
     "end_time": "2021-07-02T14:59:56.137285",
     "exception": false,
     "start_time": "2021-07-02T14:59:56.084457",
     "status": "completed"
    },
    "tags": []
   },
   "outputs": [
    {
     "data": {
      "text/html": [
       "<div>\n",
       "<style scoped>\n",
       "    .dataframe tbody tr th:only-of-type {\n",
       "        vertical-align: middle;\n",
       "    }\n",
       "\n",
       "    .dataframe tbody tr th {\n",
       "        vertical-align: top;\n",
       "    }\n",
       "\n",
       "    .dataframe thead th {\n",
       "        text-align: right;\n",
       "    }\n",
       "</style>\n",
       "<table border=\"1\" class=\"dataframe\">\n",
       "  <thead>\n",
       "    <tr style=\"text-align: right;\">\n",
       "      <th></th>\n",
       "      <th>X1_Usia_Rumah</th>\n",
       "      <th>X2_jarak_MRT</th>\n",
       "      <th>X3_jumlah_toko</th>\n",
       "      <th>Y_harga_unit</th>\n",
       "    </tr>\n",
       "  </thead>\n",
       "  <tbody>\n",
       "    <tr>\n",
       "      <th>0</th>\n",
       "      <td>32.0</td>\n",
       "      <td>84.87882</td>\n",
       "      <td>10</td>\n",
       "      <td>37.9</td>\n",
       "    </tr>\n",
       "    <tr>\n",
       "      <th>1</th>\n",
       "      <td>19.5</td>\n",
       "      <td>306.59470</td>\n",
       "      <td>9</td>\n",
       "      <td>42.2</td>\n",
       "    </tr>\n",
       "    <tr>\n",
       "      <th>2</th>\n",
       "      <td>13.3</td>\n",
       "      <td>561.98450</td>\n",
       "      <td>5</td>\n",
       "      <td>47.3</td>\n",
       "    </tr>\n",
       "    <tr>\n",
       "      <th>3</th>\n",
       "      <td>13.3</td>\n",
       "      <td>561.98450</td>\n",
       "      <td>5</td>\n",
       "      <td>54.8</td>\n",
       "    </tr>\n",
       "    <tr>\n",
       "      <th>4</th>\n",
       "      <td>5.0</td>\n",
       "      <td>390.56840</td>\n",
       "      <td>5</td>\n",
       "      <td>43.1</td>\n",
       "    </tr>\n",
       "  </tbody>\n",
       "</table>\n",
       "</div>"
      ],
      "text/plain": [
       "   X1_Usia_Rumah  X2_jarak_MRT  X3_jumlah_toko  Y_harga_unit\n",
       "0           32.0      84.87882              10          37.9\n",
       "1           19.5     306.59470               9          42.2\n",
       "2           13.3     561.98450               5          47.3\n",
       "3           13.3     561.98450               5          54.8\n",
       "4            5.0     390.56840               5          43.1"
      ]
     },
     "execution_count": 2,
     "metadata": {},
     "output_type": "execute_result"
    }
   ],
   "source": [
    "data = '../input/harga-real-estate/harga_real_estate.csv'\n",
    "df = pd.read_csv(data,usecols=[\"X1_Usia_Rumah\",\"X2_jarak_MRT\",\"X3_jumlah_toko\",\"Y_harga_unit\"])\n",
    "df.head()"
   ]
  },
  {
   "cell_type": "markdown",
   "id": "illegal-algorithm",
   "metadata": {
    "papermill": {
     "duration": 0.015257,
     "end_time": "2021-07-02T14:59:56.169082",
     "exception": false,
     "start_time": "2021-07-02T14:59:56.153825",
     "status": "completed"
    },
    "tags": []
   },
   "source": [
    "memerikasa data"
   ]
  },
  {
   "cell_type": "code",
   "execution_count": 3,
   "id": "centered-jesus",
   "metadata": {
    "execution": {
     "iopub.execute_input": "2021-07-02T14:59:56.215852Z",
     "iopub.status.busy": "2021-07-02T14:59:56.215106Z",
     "iopub.status.idle": "2021-07-02T14:59:56.218069Z",
     "shell.execute_reply": "2021-07-02T14:59:56.218609Z",
     "shell.execute_reply.started": "2021-07-02T13:49:23.848951Z"
    },
    "papermill": {
     "duration": 0.03438,
     "end_time": "2021-07-02T14:59:56.218764",
     "exception": false,
     "start_time": "2021-07-02T14:59:56.184384",
     "status": "completed"
    },
    "tags": []
   },
   "outputs": [
    {
     "name": "stdout",
     "output_type": "stream",
     "text": [
      "<class 'pandas.core.frame.DataFrame'>\n",
      "RangeIndex: 414 entries, 0 to 413\n",
      "Data columns (total 4 columns):\n",
      " #   Column          Non-Null Count  Dtype  \n",
      "---  ------          --------------  -----  \n",
      " 0   X1_Usia_Rumah   414 non-null    float64\n",
      " 1   X2_jarak_MRT    414 non-null    float64\n",
      " 2   X3_jumlah_toko  414 non-null    int64  \n",
      " 3   Y_harga_unit    414 non-null    float64\n",
      "dtypes: float64(3), int64(1)\n",
      "memory usage: 13.1 KB\n"
     ]
    }
   ],
   "source": [
    "df.info()"
   ]
  },
  {
   "cell_type": "code",
   "execution_count": 4,
   "id": "requested-encoding",
   "metadata": {
    "execution": {
     "iopub.execute_input": "2021-07-02T14:59:56.256474Z",
     "iopub.status.busy": "2021-07-02T14:59:56.253373Z",
     "iopub.status.idle": "2021-07-02T14:59:56.274037Z",
     "shell.execute_reply": "2021-07-02T14:59:56.274430Z",
     "shell.execute_reply.started": "2021-07-02T13:49:38.446356Z"
    },
    "papermill": {
     "duration": 0.040225,
     "end_time": "2021-07-02T14:59:56.274598",
     "exception": false,
     "start_time": "2021-07-02T14:59:56.234373",
     "status": "completed"
    },
    "tags": []
   },
   "outputs": [
    {
     "data": {
      "text/html": [
       "<div>\n",
       "<style scoped>\n",
       "    .dataframe tbody tr th:only-of-type {\n",
       "        vertical-align: middle;\n",
       "    }\n",
       "\n",
       "    .dataframe tbody tr th {\n",
       "        vertical-align: top;\n",
       "    }\n",
       "\n",
       "    .dataframe thead th {\n",
       "        text-align: right;\n",
       "    }\n",
       "</style>\n",
       "<table border=\"1\" class=\"dataframe\">\n",
       "  <thead>\n",
       "    <tr style=\"text-align: right;\">\n",
       "      <th></th>\n",
       "      <th>X1_Usia_Rumah</th>\n",
       "      <th>X2_jarak_MRT</th>\n",
       "      <th>X3_jumlah_toko</th>\n",
       "      <th>Y_harga_unit</th>\n",
       "    </tr>\n",
       "  </thead>\n",
       "  <tbody>\n",
       "    <tr>\n",
       "      <th>count</th>\n",
       "      <td>414.000000</td>\n",
       "      <td>414.000000</td>\n",
       "      <td>414.000000</td>\n",
       "      <td>414.000000</td>\n",
       "    </tr>\n",
       "    <tr>\n",
       "      <th>mean</th>\n",
       "      <td>17.712560</td>\n",
       "      <td>1083.885689</td>\n",
       "      <td>4.094203</td>\n",
       "      <td>37.980193</td>\n",
       "    </tr>\n",
       "    <tr>\n",
       "      <th>std</th>\n",
       "      <td>11.392485</td>\n",
       "      <td>1262.109595</td>\n",
       "      <td>2.945562</td>\n",
       "      <td>13.606488</td>\n",
       "    </tr>\n",
       "    <tr>\n",
       "      <th>min</th>\n",
       "      <td>0.000000</td>\n",
       "      <td>23.382840</td>\n",
       "      <td>0.000000</td>\n",
       "      <td>7.600000</td>\n",
       "    </tr>\n",
       "    <tr>\n",
       "      <th>25%</th>\n",
       "      <td>9.025000</td>\n",
       "      <td>289.324800</td>\n",
       "      <td>1.000000</td>\n",
       "      <td>27.700000</td>\n",
       "    </tr>\n",
       "    <tr>\n",
       "      <th>50%</th>\n",
       "      <td>16.100000</td>\n",
       "      <td>492.231300</td>\n",
       "      <td>4.000000</td>\n",
       "      <td>38.450000</td>\n",
       "    </tr>\n",
       "    <tr>\n",
       "      <th>75%</th>\n",
       "      <td>28.150000</td>\n",
       "      <td>1454.279000</td>\n",
       "      <td>6.000000</td>\n",
       "      <td>46.600000</td>\n",
       "    </tr>\n",
       "    <tr>\n",
       "      <th>max</th>\n",
       "      <td>43.800000</td>\n",
       "      <td>6488.021000</td>\n",
       "      <td>10.000000</td>\n",
       "      <td>117.500000</td>\n",
       "    </tr>\n",
       "  </tbody>\n",
       "</table>\n",
       "</div>"
      ],
      "text/plain": [
       "       X1_Usia_Rumah  X2_jarak_MRT  X3_jumlah_toko  Y_harga_unit\n",
       "count     414.000000    414.000000      414.000000    414.000000\n",
       "mean       17.712560   1083.885689        4.094203     37.980193\n",
       "std        11.392485   1262.109595        2.945562     13.606488\n",
       "min         0.000000     23.382840        0.000000      7.600000\n",
       "25%         9.025000    289.324800        1.000000     27.700000\n",
       "50%        16.100000    492.231300        4.000000     38.450000\n",
       "75%        28.150000   1454.279000        6.000000     46.600000\n",
       "max        43.800000   6488.021000       10.000000    117.500000"
      ]
     },
     "execution_count": 4,
     "metadata": {},
     "output_type": "execute_result"
    }
   ],
   "source": [
    "df.describe()"
   ]
  },
  {
   "cell_type": "code",
   "execution_count": 5,
   "id": "associate-majority",
   "metadata": {
    "execution": {
     "iopub.execute_input": "2021-07-02T14:59:56.312934Z",
     "iopub.status.busy": "2021-07-02T14:59:56.312055Z",
     "iopub.status.idle": "2021-07-02T14:59:56.316626Z",
     "shell.execute_reply": "2021-07-02T14:59:56.316168Z",
     "shell.execute_reply.started": "2021-07-02T13:50:10.633178Z"
    },
    "papermill": {
     "duration": 0.026156,
     "end_time": "2021-07-02T14:59:56.316747",
     "exception": false,
     "start_time": "2021-07-02T14:59:56.290591",
     "status": "completed"
    },
    "tags": []
   },
   "outputs": [
    {
     "data": {
      "text/plain": [
       "X1_Usia_Rumah     0\n",
       "X2_jarak_MRT      0\n",
       "X3_jumlah_toko    0\n",
       "Y_harga_unit      0\n",
       "dtype: int64"
      ]
     },
     "execution_count": 5,
     "metadata": {},
     "output_type": "execute_result"
    }
   ],
   "source": [
    "df.isnull().sum()"
   ]
  },
  {
   "cell_type": "markdown",
   "id": "pressed-albuquerque",
   "metadata": {
    "papermill": {
     "duration": 0.016451,
     "end_time": "2021-07-02T14:59:56.349364",
     "exception": false,
     "start_time": "2021-07-02T14:59:56.332913",
     "status": "completed"
    },
    "tags": []
   },
   "source": [
    "Memeriksa Data dengan grafik"
   ]
  },
  {
   "cell_type": "code",
   "execution_count": 6,
   "id": "annoying-riding",
   "metadata": {
    "execution": {
     "iopub.execute_input": "2021-07-02T14:59:56.400201Z",
     "iopub.status.busy": "2021-07-02T14:59:56.399611Z",
     "iopub.status.idle": "2021-07-02T14:59:58.915809Z",
     "shell.execute_reply": "2021-07-02T14:59:58.915340Z",
     "shell.execute_reply.started": "2021-07-02T14:00:43.124207Z"
    },
    "papermill": {
     "duration": 2.54986,
     "end_time": "2021-07-02T14:59:58.915941",
     "exception": false,
     "start_time": "2021-07-02T14:59:56.366081",
     "status": "completed"
    },
    "tags": []
   },
   "outputs": [
    {
     "name": "stderr",
     "output_type": "stream",
     "text": [
      "/opt/conda/lib/python3.7/site-packages/seaborn/_decorators.py:43: FutureWarning: Pass the following variable as a keyword arg: x. From version 0.12, the only valid positional argument will be `data`, and passing other arguments without an explicit keyword will result in an error or misinterpretation.\n",
      "  FutureWarning\n"
     ]
    },
    {
     "data": {
      "image/png": "[encoded data removed]",
      "text/plain": [
       "<Figure size 864x288 with 2 Axes>"
      ]
     },
     "metadata": {
      "needs_background": "light"
     },
     "output_type": "display_data"
    }
   ],
   "source": [
    "f = plt.figure(figsize = (12,4))\n",
    "f.add_subplot(1,2,1)\n",
    "\n",
    "sns.countplot(df['X1_Usia_Rumah'])\n",
    "\n",
    "f.add_subplot(1,2,2)\n",
    "plt.boxplot(df['X1_Usia_Rumah'])\n",
    "plt.show()"
   ]
  },
  {
   "cell_type": "code",
   "execution_count": 7,
   "id": "deadly-chinese",
   "metadata": {
    "execution": {
     "iopub.execute_input": "2021-07-02T14:59:58.969262Z",
     "iopub.status.busy": "2021-07-02T14:59:58.961494Z",
     "iopub.status.idle": "2021-07-02T15:00:02.314925Z",
     "shell.execute_reply": "2021-07-02T15:00:02.314445Z",
     "shell.execute_reply.started": "2021-07-02T14:03:35.928492Z"
    },
    "papermill": {
     "duration": 3.381239,
     "end_time": "2021-07-02T15:00:02.315079",
     "exception": false,
     "start_time": "2021-07-02T14:59:58.933840",
     "status": "completed"
    },
    "tags": []
   },
   "outputs": [
    {
     "name": "stderr",
     "output_type": "stream",
     "text": [
      "/opt/conda/lib/python3.7/site-packages/seaborn/_decorators.py:43: FutureWarning: Pass the following variable as a keyword arg: x. From version 0.12, the only valid positional argument will be `data`, and passing other arguments without an explicit keyword will result in an error or misinterpretation.\n",
      "  FutureWarning\n"
     ]
    },
    {
     "data": {
      "image/png": "[encoded data removed]",
      "text/plain": [
       "<Figure size 864x288 with 2 Axes>"
      ]
     },
     "metadata": {
      "needs_background": "light"
     },
     "output_type": "display_data"
    }
   ],
   "source": [
    "f = plt.figure(figsize = (12,4))\n",
    "f.add_subplot(1,2,1)\n",
    "\n",
    "sns.countplot(df['X2_jarak_MRT'])\n",
    "\n",
    "f.add_subplot(1,2,2)\n",
    "plt.boxplot(df['X2_jarak_MRT'])\n",
    "plt.show()"
   ]
  },
  {
   "cell_type": "code",
   "execution_count": 8,
   "id": "prostate-transportation",
   "metadata": {
    "execution": {
     "iopub.execute_input": "2021-07-02T15:00:02.370573Z",
     "iopub.status.busy": "2021-07-02T15:00:02.369892Z",
     "iopub.status.idle": "2021-07-02T15:00:02.586286Z",
     "shell.execute_reply": "2021-07-02T15:00:02.585828Z",
     "shell.execute_reply.started": "2021-07-02T14:04:11.733666Z"
    },
    "papermill": {
     "duration": 0.253351,
     "end_time": "2021-07-02T15:00:02.586421",
     "exception": false,
     "start_time": "2021-07-02T15:00:02.333070",
     "status": "completed"
    },
    "tags": []
   },
   "outputs": [
    {
     "name": "stderr",
     "output_type": "stream",
     "text": [
      "/opt/conda/lib/python3.7/site-packages/seaborn/_decorators.py:43: FutureWarning: Pass the following variable as a keyword arg: x. From version 0.12, the only valid positional argument will be `data`, and passing other arguments without an explicit keyword will result in an error or misinterpretation.\n",
      "  FutureWarning\n"
     ]
    },
    {
     "data": {
      "image/png": "[encoded data removed]",
      "text/plain": [
       "<Figure size 864x288 with 2 Axes>"
      ]
     },
     "metadata": {
      "needs_background": "light"
     },
     "output_type": "display_data"
    }
   ],
   "source": [
    "f = plt.figure(figsize = (12,4))\n",
    "f.add_subplot(1,2,1)\n",
    "\n",
    "sns.countplot(df['X3_jumlah_toko'])\n",
    "\n",
    "f.add_subplot(1,2,2)\n",
    "plt.boxplot(df['X3_jumlah_toko'])\n",
    "plt.show()"
   ]
  },
  {
   "cell_type": "code",
   "execution_count": 9,
   "id": "limited-serbia",
   "metadata": {
    "execution": {
     "iopub.execute_input": "2021-07-02T15:00:02.648521Z",
     "iopub.status.busy": "2021-07-02T15:00:02.642564Z",
     "iopub.status.idle": "2021-07-02T15:00:05.590812Z",
     "shell.execute_reply": "2021-07-02T15:00:05.590230Z",
     "shell.execute_reply.started": "2021-07-02T14:04:56.122773Z"
    },
    "papermill": {
     "duration": 2.985717,
     "end_time": "2021-07-02T15:00:05.590963",
     "exception": false,
     "start_time": "2021-07-02T15:00:02.605246",
     "status": "completed"
    },
    "tags": []
   },
   "outputs": [
    {
     "name": "stderr",
     "output_type": "stream",
     "text": [
      "/opt/conda/lib/python3.7/site-packages/seaborn/_decorators.py:43: FutureWarning: Pass the following variable as a keyword arg: x. From version 0.12, the only valid positional argument will be `data`, and passing other arguments without an explicit keyword will result in an error or misinterpretation.\n",
      "  FutureWarning\n"
     ]
    },
    {
     "data": {
      "image/png": "[encoded data removed]",
      "text/plain": [
       "<Figure size 864x288 with 2 Axes>"
      ]
     },
     "metadata": {
      "needs_background": "light"
     },
     "output_type": "display_data"
    }
   ],
   "source": [
    "f = plt.figure(figsize = (12,4))\n",
    "f.add_subplot(1,2,1)\n",
    "\n",
    "sns.countplot(df['Y_harga_unit'])\n",
    "\n",
    "f.add_subplot(1,2,2)\n",
    "plt.boxplot(df['Y_harga_unit'])\n",
    "plt.show()"
   ]
  },
  {
   "cell_type": "markdown",
   "id": "geographic-reminder",
   "metadata": {
    "papermill": {
     "duration": 0.019848,
     "end_time": "2021-07-02T15:00:05.631124",
     "exception": false,
     "start_time": "2021-07-02T15:00:05.611276",
     "status": "completed"
    },
    "tags": []
   },
   "source": [
    "mencari korelasi terdekat dengan harga"
   ]
  },
  {
   "cell_type": "code",
   "execution_count": 10,
   "id": "according-thursday",
   "metadata": {
    "execution": {
     "iopub.execute_input": "2021-07-02T15:00:05.677177Z",
     "iopub.status.busy": "2021-07-02T15:00:05.676460Z",
     "iopub.status.idle": "2021-07-02T15:00:06.207171Z",
     "shell.execute_reply": "2021-07-02T15:00:06.207605Z",
     "shell.execute_reply.started": "2021-07-02T14:31:19.177429Z"
    },
    "papermill": {
     "duration": 0.556584,
     "end_time": "2021-07-02T15:00:06.207769",
     "exception": false,
     "start_time": "2021-07-02T15:00:05.651185",
     "status": "completed"
    },
    "tags": []
   },
   "outputs": [
    {
     "name": "stderr",
     "output_type": "stream",
     "text": [
      "/opt/conda/lib/python3.7/site-packages/seaborn/axisgrid.py:1969: UserWarning: The `size` parameter has been renamed to `height`; please update your code.\n",
      "  warnings.warn(msg, UserWarning)\n"
     ]
    },
    {
     "data": {
      "text/plain": [
       "<Figure size 720x576 with 0 Axes>"
      ]
     },
     "metadata": {},
     "output_type": "display_data"
    },
    {
     "data": {
      "image/png": "[encoded data removed]",
      "text/plain": [
       "<Figure size 810x360 with 3 Axes>"
      ]
     },
     "metadata": {
      "needs_background": "light"
     },
     "output_type": "display_data"
    }
   ],
   "source": [
    "plt.figure(figsize = (10,8))\n",
    "sns.pairplot(data=df, x_vars=['X1_Usia_Rumah','X2_jarak_MRT','X3_jumlah_toko'],y_vars=['Y_harga_unit'], size = 5, aspect = 0.75)\n",
    "plt.show()"
   ]
  },
  {
   "cell_type": "code",
   "execution_count": 11,
   "id": "radical-nancy",
   "metadata": {
    "execution": {
     "iopub.execute_input": "2021-07-02T15:00:06.256799Z",
     "iopub.status.busy": "2021-07-02T15:00:06.256240Z",
     "iopub.status.idle": "2021-07-02T15:00:06.332532Z",
     "shell.execute_reply": "2021-07-02T15:00:06.332065Z",
     "shell.execute_reply.started": "2021-07-02T14:07:58.413605Z"
    },
    "papermill": {
     "duration": 0.102897,
     "end_time": "2021-07-02T15:00:06.332694",
     "exception": false,
     "start_time": "2021-07-02T15:00:06.229797",
     "status": "completed"
    },
    "tags": []
   },
   "outputs": [
    {
     "data": {
      "text/html": [
       "<style  type=\"text/css\" >\n",
       "#T_e7bd0_row0_col0,#T_e7bd0_row1_col1,#T_e7bd0_row2_col2,#T_e7bd0_row3_col3{\n",
       "            background-color:  #023858;\n",
       "            color:  #f1f1f1;\n",
       "        }#T_e7bd0_row0_col1{\n",
       "            background-color:  #96b6d7;\n",
       "            color:  #000000;\n",
       "        }#T_e7bd0_row0_col2{\n",
       "            background-color:  #99b8d8;\n",
       "            color:  #000000;\n",
       "        }#T_e7bd0_row0_col3{\n",
       "            background-color:  #c8cde4;\n",
       "            color:  #000000;\n",
       "        }#T_e7bd0_row1_col0{\n",
       "            background-color:  #dddbec;\n",
       "            color:  #000000;\n",
       "        }#T_e7bd0_row1_col2,#T_e7bd0_row1_col3,#T_e7bd0_row3_col0,#T_e7bd0_row3_col1{\n",
       "            background-color:  #fff7fb;\n",
       "            color:  #000000;\n",
       "        }#T_e7bd0_row2_col0{\n",
       "            background-color:  #d8d7e9;\n",
       "            color:  #000000;\n",
       "        }#T_e7bd0_row2_col1{\n",
       "            background-color:  #f9f2f8;\n",
       "            color:  #000000;\n",
       "        }#T_e7bd0_row2_col3{\n",
       "            background-color:  #0771b1;\n",
       "            color:  #f1f1f1;\n",
       "        }#T_e7bd0_row3_col2{\n",
       "            background-color:  #0c74b2;\n",
       "            color:  #f1f1f1;\n",
       "        }</style><table id=\"T_e7bd0_\" ><thead>    <tr>        <th class=\"blank level0\" ></th>        <th class=\"col_heading level0 col0\" >X1_Usia_Rumah</th>        <th class=\"col_heading level0 col1\" >X2_jarak_MRT</th>        <th class=\"col_heading level0 col2\" >X3_jumlah_toko</th>        <th class=\"col_heading level0 col3\" >Y_harga_unit</th>    </tr></thead><tbody>\n",
       "                <tr>\n",
       "                        <th id=\"T_e7bd0_level0_row0\" class=\"row_heading level0 row0\" >X1_Usia_Rumah</th>\n",
       "                        <td id=\"T_e7bd0_row0_col0\" class=\"data row0 col0\" >1.00</td>\n",
       "                        <td id=\"T_e7bd0_row0_col1\" class=\"data row0 col1\" >0.03</td>\n",
       "                        <td id=\"T_e7bd0_row0_col2\" class=\"data row0 col2\" >0.05</td>\n",
       "                        <td id=\"T_e7bd0_row0_col3\" class=\"data row0 col3\" >-0.21</td>\n",
       "            </tr>\n",
       "            <tr>\n",
       "                        <th id=\"T_e7bd0_level0_row1\" class=\"row_heading level0 row1\" >X2_jarak_MRT</th>\n",
       "                        <td id=\"T_e7bd0_row1_col0\" class=\"data row1 col0\" >0.03</td>\n",
       "                        <td id=\"T_e7bd0_row1_col1\" class=\"data row1 col1\" >1.00</td>\n",
       "                        <td id=\"T_e7bd0_row1_col2\" class=\"data row1 col2\" >-0.60</td>\n",
       "                        <td id=\"T_e7bd0_row1_col3\" class=\"data row1 col3\" >-0.67</td>\n",
       "            </tr>\n",
       "            <tr>\n",
       "                        <th id=\"T_e7bd0_level0_row2\" class=\"row_heading level0 row2\" >X3_jumlah_toko</th>\n",
       "                        <td id=\"T_e7bd0_row2_col0\" class=\"data row2 col0\" >0.05</td>\n",
       "                        <td id=\"T_e7bd0_row2_col1\" class=\"data row2 col1\" >-0.60</td>\n",
       "                        <td id=\"T_e7bd0_row2_col2\" class=\"data row2 col2\" >1.00</td>\n",
       "                        <td id=\"T_e7bd0_row2_col3\" class=\"data row2 col3\" >0.57</td>\n",
       "            </tr>\n",
       "            <tr>\n",
       "                        <th id=\"T_e7bd0_level0_row3\" class=\"row_heading level0 row3\" >Y_harga_unit</th>\n",
       "                        <td id=\"T_e7bd0_row3_col0\" class=\"data row3 col0\" >-0.21</td>\n",
       "                        <td id=\"T_e7bd0_row3_col1\" class=\"data row3 col1\" >-0.67</td>\n",
       "                        <td id=\"T_e7bd0_row3_col2\" class=\"data row3 col2\" >0.57</td>\n",
       "                        <td id=\"T_e7bd0_row3_col3\" class=\"data row3 col3\" >1.00</td>\n",
       "            </tr>\n",
       "    </tbody></table>"
      ],
      "text/plain": [
       "<pandas.io.formats.style.Styler at 0x7f8516fa31d0>"
      ]
     },
     "execution_count": 11,
     "metadata": {},
     "output_type": "execute_result"
    }
   ],
   "source": [
    "df.corr().style.background_gradient().set_precision(2)"
   ]
  },
  {
   "cell_type": "markdown",
   "id": "valued-logging",
   "metadata": {
    "papermill": {
     "duration": 0.022314,
     "end_time": "2021-07-02T15:00:06.377758",
     "exception": false,
     "start_time": "2021-07-02T15:00:06.355444",
     "status": "completed"
    },
    "tags": []
   },
   "source": [
    "mentraining data"
   ]
  },
  {
   "cell_type": "code",
   "execution_count": 12,
   "id": "cooperative-governor",
   "metadata": {
    "execution": {
     "iopub.execute_input": "2021-07-02T15:00:06.428429Z",
     "iopub.status.busy": "2021-07-02T15:00:06.427522Z",
     "iopub.status.idle": "2021-07-02T15:00:06.430484Z",
     "shell.execute_reply": "2021-07-02T15:00:06.430055Z",
     "shell.execute_reply.started": "2021-07-02T14:49:59.643568Z"
    },
    "papermill": {
     "duration": 0.030361,
     "end_time": "2021-07-02T15:00:06.430619",
     "exception": false,
     "start_time": "2021-07-02T15:00:06.400258",
     "status": "completed"
    },
    "tags": []
   },
   "outputs": [],
   "source": [
    "x = df.drop(columns = 'Y_harga_unit')\n",
    "y = df['Y_harga_unit']"
   ]
  },
  {
   "cell_type": "code",
   "execution_count": 13,
   "id": "fabulous-entry",
   "metadata": {
    "execution": {
     "iopub.execute_input": "2021-07-02T15:00:06.479577Z",
     "iopub.status.busy": "2021-07-02T15:00:06.478822Z",
     "iopub.status.idle": "2021-07-02T15:00:06.683061Z",
     "shell.execute_reply": "2021-07-02T15:00:06.682244Z",
     "shell.execute_reply.started": "2021-07-02T14:50:01.855323Z"
    },
    "papermill": {
     "duration": 0.230241,
     "end_time": "2021-07-02T15:00:06.683212",
     "exception": false,
     "start_time": "2021-07-02T15:00:06.452971",
     "status": "completed"
    },
    "tags": []
   },
   "outputs": [],
   "source": [
    "from sklearn.model_selection import train_test_split\n",
    "x_train, x_test, y_train, y_test = train_test_split(x,y,test_size = 0.2,random_state = 4)"
   ]
  },
  {
   "cell_type": "markdown",
   "id": "laden-experiment",
   "metadata": {
    "papermill": {
     "duration": 0.022504,
     "end_time": "2021-07-02T15:00:06.728434",
     "exception": false,
     "start_time": "2021-07-02T15:00:06.705930",
     "status": "completed"
    },
    "tags": []
   },
   "source": [
    "melihat hasil pembagian data"
   ]
  },
  {
   "cell_type": "code",
   "execution_count": 14,
   "id": "prerequisite-friendly",
   "metadata": {
    "execution": {
     "iopub.execute_input": "2021-07-02T15:00:06.778782Z",
     "iopub.status.busy": "2021-07-02T15:00:06.778218Z",
     "iopub.status.idle": "2021-07-02T15:00:06.782790Z",
     "shell.execute_reply": "2021-07-02T15:00:06.782106Z",
     "shell.execute_reply.started": "2021-07-02T14:50:03.839360Z"
    },
    "papermill": {
     "duration": 0.031864,
     "end_time": "2021-07-02T15:00:06.783120",
     "exception": false,
     "start_time": "2021-07-02T15:00:06.751256",
     "status": "completed"
    },
    "tags": []
   },
   "outputs": [
    {
     "name": "stdout",
     "output_type": "stream",
     "text": [
      "(331, 3)\n",
      "(83, 3)\n",
      "(331,)\n",
      "(83,)\n"
     ]
    }
   ],
   "source": [
    "print(x_train.shape)\n",
    "print(x_test.shape)\n",
    "print(y_train.shape)\n",
    "print(y_test.shape)"
   ]
  },
  {
   "cell_type": "markdown",
   "id": "historic-interim",
   "metadata": {
    "papermill": {
     "duration": 0.022381,
     "end_time": "2021-07-02T15:00:06.829049",
     "exception": false,
     "start_time": "2021-07-02T15:00:06.806668",
     "status": "completed"
    },
    "tags": []
   },
   "source": []
  },
  {
   "cell_type": "code",
   "execution_count": 15,
   "id": "owned-harmony",
   "metadata": {
    "execution": {
     "iopub.execute_input": "2021-07-02T15:00:06.878717Z",
     "iopub.status.busy": "2021-07-02T15:00:06.878139Z",
     "iopub.status.idle": "2021-07-02T15:00:06.985294Z",
     "shell.execute_reply": "2021-07-02T15:00:06.984690Z",
     "shell.execute_reply.started": "2021-07-02T14:56:59.340922Z"
    },
    "papermill": {
     "duration": 0.133629,
     "end_time": "2021-07-02T15:00:06.985429",
     "exception": false,
     "start_time": "2021-07-02T15:00:06.851800",
     "status": "completed"
    },
    "tags": []
   },
   "outputs": [
    {
     "data": {
      "text/plain": [
       "0.5462821837035738"
      ]
     },
     "execution_count": 15,
     "metadata": {},
     "output_type": "execute_result"
    }
   ],
   "source": [
    " from sklearn.linear_model import LinearRegression\n",
    "\n",
    "lin_reg = LinearRegression().fit(x_train, y_train)\n",
    "lin_reg.score(x_train, y_train)\n"
   ]
  },
  {
   "cell_type": "code",
   "execution_count": 16,
   "id": "hidden-criminal",
   "metadata": {
    "execution": {
     "iopub.execute_input": "2021-07-02T15:00:07.036368Z",
     "iopub.status.busy": "2021-07-02T15:00:07.035543Z",
     "iopub.status.idle": "2021-07-02T15:00:07.038988Z",
     "shell.execute_reply": "2021-07-02T15:00:07.038390Z",
     "shell.execute_reply.started": "2021-07-02T14:57:33.145237Z"
    },
    "papermill": {
     "duration": 0.030985,
     "end_time": "2021-07-02T15:00:07.039144",
     "exception": false,
     "start_time": "2021-07-02T15:00:07.008159",
     "status": "completed"
    },
    "tags": []
   },
   "outputs": [
    {
     "name": "stdout",
     "output_type": "stream",
     "text": [
      "[-0.24842433 -0.00536076  1.08063941]\n",
      "43.55890526838623\n"
     ]
    }
   ],
   "source": [
    "print(lin_reg.coef_)\n",
    "print(lin_reg.intercept_)"
   ]
  },
  {
   "cell_type": "code",
   "execution_count": 17,
   "id": "massive-teach",
   "metadata": {
    "execution": {
     "iopub.execute_input": "2021-07-02T15:00:07.096722Z",
     "iopub.status.busy": "2021-07-02T15:00:07.096044Z",
     "iopub.status.idle": "2021-07-02T15:00:07.100343Z",
     "shell.execute_reply": "2021-07-02T15:00:07.099868Z",
     "shell.execute_reply.started": "2021-07-02T14:58:00.224353Z"
    },
    "papermill": {
     "duration": 0.038136,
     "end_time": "2021-07-02T15:00:07.100477",
     "exception": false,
     "start_time": "2021-07-02T15:00:07.062341",
     "status": "completed"
    },
    "tags": []
   },
   "outputs": [
    {
     "data": {
      "text/html": [
       "<div>\n",
       "<style scoped>\n",
       "    .dataframe tbody tr th:only-of-type {\n",
       "        vertical-align: middle;\n",
       "    }\n",
       "\n",
       "    .dataframe tbody tr th {\n",
       "        vertical-align: top;\n",
       "    }\n",
       "\n",
       "    .dataframe thead th {\n",
       "        text-align: right;\n",
       "    }\n",
       "</style>\n",
       "<table border=\"1\" class=\"dataframe\">\n",
       "  <thead>\n",
       "    <tr style=\"text-align: right;\">\n",
       "      <th></th>\n",
       "      <th>features</th>\n",
       "      <th>coef_value</th>\n",
       "    </tr>\n",
       "  </thead>\n",
       "  <tbody>\n",
       "    <tr>\n",
       "      <th>0</th>\n",
       "      <td>X1_Usia_Rumah</td>\n",
       "      <td>-0.248424</td>\n",
       "    </tr>\n",
       "    <tr>\n",
       "      <th>1</th>\n",
       "      <td>X2_jarak_MRT</td>\n",
       "      <td>-0.005361</td>\n",
       "    </tr>\n",
       "    <tr>\n",
       "      <th>2</th>\n",
       "      <td>X3_jumlah_toko</td>\n",
       "      <td>1.080639</td>\n",
       "    </tr>\n",
       "  </tbody>\n",
       "</table>\n",
       "</div>"
      ],
      "text/plain": [
       "         features  coef_value\n",
       "0   X1_Usia_Rumah   -0.248424\n",
       "1    X2_jarak_MRT   -0.005361\n",
       "2  X3_jumlah_toko    1.080639"
      ]
     },
     "execution_count": 17,
     "metadata": {},
     "output_type": "execute_result"
    }
   ],
   "source": [
    "coef_dict = {\n",
    "    'features': x.columns,\n",
    "    'coef_value':lin_reg.coef_\n",
    "}\n",
    "coef = pd.DataFrame(coef_dict, columns=['features','coef_value'])\n",
    "coef"
   ]
  },
  {
   "cell_type": "code",
   "execution_count": 18,
   "id": "difficult-inspection",
   "metadata": {
    "execution": {
     "iopub.execute_input": "2021-07-02T15:00:07.154875Z",
     "iopub.status.busy": "2021-07-02T15:00:07.154145Z",
     "iopub.status.idle": "2021-07-02T15:00:07.157031Z",
     "shell.execute_reply": "2021-07-02T15:00:07.156518Z",
     "shell.execute_reply.started": "2021-07-02T14:58:28.897215Z"
    },
    "papermill": {
     "duration": 0.032674,
     "end_time": "2021-07-02T15:00:07.157169",
     "exception": false,
     "start_time": "2021-07-02T15:00:07.124495",
     "status": "completed"
    },
    "tags": []
   },
   "outputs": [],
   "source": [
    "y_pred = lin_reg.predict(x_test)"
   ]
  },
  {
   "cell_type": "markdown",
   "id": "intellectual-mitchell",
   "metadata": {
    "papermill": {
     "duration": 0.023122,
     "end_time": "2021-07-02T15:00:07.203998",
     "exception": false,
     "start_time": "2021-07-02T15:00:07.180876",
     "status": "completed"
    },
    "tags": []
   },
   "source": [
    "0 = usia rumah\n",
    "1 = jarak mrt\n",
    "2 = jumlah toko"
   ]
  },
  {
   "cell_type": "code",
   "execution_count": 19,
   "id": "rapid-brave",
   "metadata": {
    "execution": {
     "iopub.execute_input": "2021-07-02T15:00:07.255920Z",
     "iopub.status.busy": "2021-07-02T15:00:07.255362Z",
     "iopub.status.idle": "2021-07-02T15:00:07.259666Z",
     "shell.execute_reply": "2021-07-02T15:00:07.259180Z",
     "shell.execute_reply.started": "2021-07-02T14:59:26.926300Z"
    },
    "papermill": {
     "duration": 0.032103,
     "end_time": "2021-07-02T15:00:07.259790",
     "exception": false,
     "start_time": "2021-07-02T15:00:07.227687",
     "status": "completed"
    },
    "tags": []
   },
   "outputs": [
    {
     "data": {
      "text/plain": [
       "array([34.55806497])"
      ]
     },
     "execution_count": 19,
     "metadata": {},
     "output_type": "execute_result"
    }
   ],
   "source": [
    "lin_reg.predict([[45,400,4]])"
   ]
  },
  {
   "cell_type": "markdown",
   "id": "handled-peter",
   "metadata": {
    "papermill": {
     "duration": 0.023407,
     "end_time": "2021-07-02T15:00:07.307458",
     "exception": false,
     "start_time": "2021-07-02T15:00:07.284051",
     "status": "completed"
    },
    "tags": []
   },
   "source": []
  }
 ],
 "metadata": {
  "kernelspec": {
   "display_name": "Python 3",
   "language": "python",
   "name": "python3"
  },
  "language_info": {
   "codemirror_mode": {
    "name": "ipython",
    "version": 3
   },
   "file_extension": ".py",
   "mimetype": "text/x-python",
   "name": "python",
   "nbconvert_exporter": "python",
   "pygments_lexer": "ipython3",
   "version": "3.7.9"
  },
  "papermill": {
   "default_parameters": {},
   "duration": 17.751452,
   "end_time": "2021-07-02T15:00:07.938881",
   "environment_variables": {},
   "exception": null,
   "input_path": "__notebook__.ipynb",
   "output_path": "__notebook__.ipynb",
   "parameters": {},
   "start_time": "2021-07-02T14:59:50.187429",
   "version": "2.3.2"
  }
 },
 "nbformat": 4,
 "nbformat_minor": 5
}
